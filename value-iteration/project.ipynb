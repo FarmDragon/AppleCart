{
 "cells": [
  {
   "cell_type": "code",
   "execution_count": 3,
   "metadata": {},
   "outputs": [],
   "source": [
    "import numpy as np\n",
    "from pydrake.all import (\n",
    "    AddMultibodyPlantSceneGraph,\n",
    "    DiagramBuilder,\n",
    "    LeafSystem,\n",
    "    MeshcatVisualizerCpp,\n",
    "    MultilayerPerceptron,\n",
    "    Parser,\n",
    "    PerceptronActivationType,\n",
    "    RandomGenerator,\n",
    "    RigidTransform,\n",
    "    RotationMatrix,\n",
    "    SceneGraph,\n",
    "    Simulator,\n",
    "    StartMeshcat,\n",
    "    ZeroOrderHold,\n",
    ")\n",
    "from pydrake.examples.pendulum import PendulumGeometry, PendulumPlant\n",
    "from underactuated import FindResource, running_as_notebook\n",
    "from underactuated.optimizers import Adam\n",
    "from value_iteration import *"
   ]
  },
  {
   "cell_type": "code",
   "execution_count": 2,
   "metadata": {},
   "outputs": [
    {
     "name": "stdout",
     "output_type": "stream",
     "text": [
      "Meshcat is now available at http://localhost:7001\n"
     ]
    }
   ],
   "source": [
    "mescat = StartMeshcat()"
   ]
  },
  {
   "cell_type": "code",
   "execution_count": null,
   "metadata": {},
   "outputs": [],
   "source": []
  },
  {
   "cell_type": "code",
   "execution_count": null,
   "metadata": {},
   "outputs": [],
   "source": []
  }
 ],
 "metadata": {
  "interpreter": {
   "hash": "ac63f7cb044fd5c4664320bd5ba9c5e94ea4325b36b86b2f333ccff15ed4001e"
  },
  "kernelspec": {
   "display_name": "Python 3.9.10 ('.venv': poetry)",
   "language": "python",
   "name": "python3"
  },
  "language_info": {
   "codemirror_mode": {
    "name": "ipython",
    "version": 3
   },
   "file_extension": ".py",
   "mimetype": "text/x-python",
   "name": "python",
   "nbconvert_exporter": "python",
   "pygments_lexer": "ipython3",
   "version": "3.9.10"
  },
  "orig_nbformat": 4
 },
 "nbformat": 4,
 "nbformat_minor": 2
}

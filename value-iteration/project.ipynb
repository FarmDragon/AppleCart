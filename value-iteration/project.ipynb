{
 "cells": [
  {
   "cell_type": "code",
   "execution_count": 9,
   "metadata": {},
   "outputs": [],
   "source": [
    "import numpy as np\n",
    "from pydrake.all import (\n",
    "    AddMultibodyPlantSceneGraph,\n",
    "    DiagramBuilder,\n",
    "    MeshcatVisualizerCpp,\n",
    "    MultilayerPerceptron,\n",
    "    Parser,\n",
    "    PerceptronActivationType,\n",
    "    Simulator,\n",
    "    StartMeshcat,\n",
    "    ZeroOrderHold,\n",
    ")\n",
    "from underactuated import FindResource, running_as_notebook\n",
    "from value_iteration import *\n",
    "from functools import partial\n",
    "import seaborn as sns\n",
    "import pandas as pd"
   ]
  },
  {
   "cell_type": "code",
   "execution_count": 2,
   "metadata": {},
   "outputs": [
    {
     "name": "stdout",
     "output_type": "stream",
     "text": [
      "Meshcat is now available at http://localhost:7001\n"
     ]
    }
   ],
   "source": [
    "meshcat = StartMeshcat()"
   ]
  },
  {
   "cell_type": "code",
   "execution_count": 3,
   "metadata": {},
   "outputs": [],
   "source": [
    "# Set up the cart-pole system\n",
    "builder = DiagramBuilder()\n",
    "cart_plant, cart_scene_graph = AddMultibodyPlantSceneGraph(builder, time_step=0.0)\n",
    "file_name = FindResource(\"models/cartpole.urdf\")\n",
    "Parser(cart_plant).AddModelFromFile(file_name)\n",
    "cart_plant.Finalize()\n",
    "cart_plant_context = cart_plant.CreateDefaultContext()\n",
    "\n",
    "cart_diagram = builder.Build()\n",
    "\n",
    "num_states = cart_plant.num_continuous_states()\n",
    "cart_actuation_port_index = 3\n",
    "num_inputs = cart_plant.get_input_port(cart_actuation_port_index)\n",
    "\n",
    "# Set up training data. states are (x, theta, x_dot, theta_dot)\n",
    "time_step = 0.01\n",
    "num_samples = 50\n",
    "x_states_cart = np.linspace(-2, 2, num_samples)\n",
    "theta_states_cart = np.linspace(0, 2 * np.pi, 50)\n",
    "x_dot_states_cart = np.linspace(-10, 10, num_samples)\n",
    "theta_dot_states_cart = np.linspace(-10, 10, num_samples)\n",
    "state_grid_cart = np.meshgrid(\n",
    "    x_states_cart,\n",
    "    theta_states_cart,\n",
    "    x_dot_states_cart,\n",
    "    theta_dot_states_cart,\n",
    "    indexing=\"ij\",\n",
    ")\n",
    "state_data_cart = np.vstack([s.flatten() for s in state_grid_cart])\n",
    "\n",
    "# zero cost state\n",
    "cart_target_state = np.array([0, np.pi, 0, 0]).reshape(-1, 1)\n",
    "\n",
    "Q_cart = np.diag([0.1, 20, 1, 1])\n",
    "R_cart = np.array([2])\n",
    "\n",
    "# A neural network for the cartpole\n",
    "cart_value_mlp = MultilayerPerceptron(\n",
    "    [False, True, False, False],\n",
    "    [128, 128, 1],\n",
    "    [\n",
    "        PerceptronActivationType.kReLU,\n",
    "        PerceptronActivationType.kReLU,\n",
    "        PerceptronActivationType.kIdentity,\n",
    "    ],\n",
    ")\n",
    "\n",
    "state_cost_function_cart = partial(compute_state_cost, Q_cart, cart_target_state)\n",
    "# train the neural network\n",
    "(cart_value_mlp_context, loss_over_time) = ContinuousFittedValueIteration(\n",
    "    cart_plant,\n",
    "    cart_plant_context,\n",
    "    cart_value_mlp,\n",
    "    state_cost_function_cart,\n",
    "    compute_u_star,\n",
    "    R_cart,\n",
    "    state_data_cart,\n",
    "    time_step=0.01,\n",
    "    discount_factor=0.9999,\n",
    "    input_port_index=cart_actuation_port_index,\n",
    "    lr=1e-4,\n",
    "    minibatch=64,\n",
    "    epochs=20,\n",
    "    optimization_steps_per_epoch=100,\n",
    "    input_limits=None,\n",
    "    target_state=cart_target_state,\n",
    ")"
   ]
  },
  {
   "cell_type": "code",
   "execution_count": 20,
   "metadata": {},
   "outputs": [
    {
     "data": {
      "text/plain": [
       "<AxesSubplot:xlabel='epoch', ylabel='loss'>"
      ]
     },
     "execution_count": 20,
     "metadata": {},
     "output_type": "execute_result"
    },
    {
     "data": {
      "image/png": "[encoded data removed]",
      "text/plain": [
       "<Figure size 432x288 with 1 Axes>"
      ]
     },
     "metadata": {
      "needs_background": "light"
     },
     "output_type": "display_data"
    }
   ],
   "source": [
    "losses = pd.DataFrame({\"epoch\": range(len(loss_over_time)), \"loss\": loss_over_time})\n",
    "sns.lineplot(x=\"epoch\", y=\"loss\", data=losses)"
   ]
  },
  {
   "cell_type": "code",
   "execution_count": 4,
   "metadata": {},
   "outputs": [
    {
     "data": {
      "text/plain": [
       "<bound method PyCapsule.get_continuous_state of <pydrake.systems.framework.LeafContext_[float] object at 0x2a23edf70>>"
      ]
     },
     "execution_count": 4,
     "metadata": {},
     "output_type": "execute_result"
    }
   ],
   "source": [
    "cart_value_mlp_context.get_continuous_state"
   ]
  },
  {
   "cell_type": "code",
   "execution_count": 5,
   "metadata": {},
   "outputs": [],
   "source": [
    "# initialize controller and plant\n",
    "diagram_builder = DiagramBuilder()\n",
    "\n",
    "cart_plant_cl, cart_scene_graph_cl = AddMultibodyPlantSceneGraph(\n",
    "    diagram_builder, time_step=0.0\n",
    ")\n",
    "\n",
    "file_name = FindResource(\"models/cartpole.urdf\")\n",
    "Parser(cart_plant_cl).AddModelFromFile(file_name)\n",
    "cart_plant_cl.Finalize()\n",
    "cart_plant_context_cl = cart_plant_cl.CreateDefaultContext()\n",
    "cart_controller_sys = ContinuousFittedValueIterationPolicy(\n",
    "    cart_plant_cl,\n",
    "    cart_value_mlp,\n",
    "    cart_value_mlp_context,\n",
    "    R_cart,\n",
    "    compute_u_star,\n",
    "    input_port_index=cart_actuation_port_index,\n",
    ")\n",
    "\n",
    "\n",
    "cart_controller = diagram_builder.AddSystem(cart_controller_sys)\n",
    "# we assume a zero-order hold between time steps\n",
    "zoh_cart = diagram_builder.AddSystem(ZeroOrderHold(time_step, 1))\n",
    "\n",
    "# wire all the systems together\n",
    "diagram_builder.Connect(\n",
    "    cart_plant_cl.get_state_output_port(), cart_controller.get_input_port()\n",
    ")\n",
    "diagram_builder.Connect(\n",
    "    cart_controller.get_output_port(), zoh_cart.get_input_port()\n",
    ")\n",
    "diagram_builder.Connect(\n",
    "    zoh_cart.get_output_port(), cart_plant_cl.get_input_port(cart_actuation_port_index)\n",
    ")\n",
    "\n",
    "meshcat.Delete()\n",
    "meshcat.Set2dRenderMode(xmin=-2.5, xmax=2.5, ymin=-1.0, ymax=2.5)\n",
    "vis = MeshcatVisualizerCpp.AddToBuilder(\n",
    "    diagram_builder, cart_scene_graph_cl, meshcat\n",
    ")\n",
    "\n",
    "simulator = Simulator(diagram_builder.Build())\n",
    "simulator_context = simulator.get_mutable_context()\n",
    "\n",
    "simulator.set_target_realtime_rate(1.0 if running_as_notebook else 0.0)\n",
    "duration = 10.0 if running_as_notebook else 0.1\n",
    "for i in range(1):\n",
    "    simulator_context.SetTime(0.)\n",
    "    simulator_context.SetContinuousState([0, 0, 0, 0])\n",
    "    simulator.Initialize()\n",
    "    simulator.AdvanceTo(duration)\n"
   ]
  },
  {
   "cell_type": "code",
   "execution_count": null,
   "metadata": {},
   "outputs": [],
   "source": []
  }
 ],
 "metadata": {
  "interpreter": {
   "hash": "ac63f7cb044fd5c4664320bd5ba9c5e94ea4325b36b86b2f333ccff15ed4001e"
  },
  "kernelspec": {
   "display_name": "Python 3.9.10 ('.venv': poetry)",
   "language": "python",
   "name": "python3"
  },
  "language_info": {
   "codemirror_mode": {
    "name": "ipython",
    "version": 3
   },
   "file_extension": ".py",
   "mimetype": "text/x-python",
   "name": "python",
   "nbconvert_exporter": "python",
   "pygments_lexer": "ipython3",
   "version": "3.9.10"
  },
  "orig_nbformat": 4
 },
 "nbformat": 4,
 "nbformat_minor": 2
}

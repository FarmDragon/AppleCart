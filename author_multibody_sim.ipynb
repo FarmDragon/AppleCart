{
 "cells": [
  {
   "cell_type": "markdown",
   "metadata": {
    "cell_id": "00000-c5335671-5c6a-4785-9961-0ae0d3554897",
    "deepnote_cell_height": 201.59375,
    "deepnote_cell_type": "markdown",
    "tags": []
   },
   "source": [
    "# Authoring a Multibody Simulation\n",
    "\n",
    "This tutorial provides some tools to help you create a new scene description file that can be parsed into Drake's multibody physics engine (MultibodyPlant) and geometry engine (SceneGraph).\n",
    "\n",
    "You can **duplicate this notebook**, and edit your file directly here in deepnote.  Just create a new file, or upload and existing file along with your art assets (e.g. obj and mtl files) to this project."
   ]
  },
  {
   "cell_type": "code",
   "execution_count": 2,
   "metadata": {
    "cell_id": "00000-43fb3dcb-8b0f-4750-9faa-8bcbfdd5bc62",
    "deepnote_cell_height": 171,
    "deepnote_cell_type": "code",
    "deepnote_to_be_reexecuted": false,
    "execution_millis": 1078,
    "execution_start": 1650830313154,
    "output_cleared": true,
    "owner_user_id": "d22fe289-2e92-477b-bd52-02f710f35885",
    "source_hash": "bdde0035"
   },
   "outputs": [],
   "source": [
    "# Imports\n",
    "import numpy as np\n",
    "from pydrake.all import (\n",
    "    AddMultibodyPlantSceneGraph, DiagramBuilder, FindResourceOrThrow, MeshcatVisualizerCpp,\n",
    "    MeshcatVisualizerParams, Parser, RigidTransform, Role, RollPitchYaw, Simulator, StartMeshcat, JointSliders\n",
    ")"
   ]
  },
  {
   "cell_type": "code",
   "execution_count": 3,
   "metadata": {
    "cell_id": "00001-be3023b5-a431-4787-a30d-10874293d2c0",
    "deepnote_cell_height": 206.078125,
    "deepnote_cell_type": "code",
    "deepnote_output_heights": [
     null,
     21.1875
    ],
    "deepnote_to_be_reexecuted": false,
    "execution_millis": 5357,
    "execution_start": 1650830319301,
    "output_cleared": true,
    "source_hash": "6d42057f"
   },
   "outputs": [
    {
     "name": "stderr",
     "output_type": "stream",
     "text": [
      "INFO:drake:Meshcat listening for connections at http://localhost:7000\n"
     ]
    }
   ],
   "source": [
    "# Start the visualizer.\n",
    "meshcat = StartMeshcat()"
   ]
  },
  {
   "cell_type": "markdown",
   "metadata": {
    "cell_id": "00002-2b613b40-5a04-4d6b-9da3-73e068b17aa8",
    "deepnote_cell_height": 130.796875,
    "deepnote_cell_type": "markdown"
   },
   "source": [
    "## Inspecting a URDF / SDF using joint sliders\n",
    "\n",
    "The most important formats for creating multibody scenarios in Drake are the \"Universal Robot Description Format\" (URDF) and the \"Scene Description Format\" (SDF)..."
   ]
  },
  {
   "cell_type": "code",
   "execution_count": 4,
   "metadata": {
    "cell_id": "00003-f9a9dfcc-afa0-4683-9a9e-ff107848c6d0",
    "deepnote_cell_height": 585,
    "deepnote_cell_type": "code",
    "deepnote_to_be_reexecuted": false,
    "execution_millis": 0,
    "execution_start": 1650830330918,
    "output_cleared": true,
    "source_hash": "78380df"
   },
   "outputs": [],
   "source": [
    "def inspector(filename, package_paths={}):\n",
    "    meshcat.Delete()\n",
    "    meshcat.DeleteAddedControls()\n",
    "    builder = DiagramBuilder()\n",
    "\n",
    "    plant, scene_graph = AddMultibodyPlantSceneGraph(builder, time_step=0.001)\n",
    "\n",
    "    # Load the file into the plant/scene_graph.\n",
    "    parser = Parser(plant)\n",
    "    for name, directory in package_paths.items():\n",
    "        parser.package_map().Add(name, directory)\n",
    "    parser.AddModelFromFile(filename)\n",
    "    plant.Finalize()\n",
    "\n",
    "    # Add two visualizers, one to publish the \"visual\" geometry, and one to\n",
    "    # publish the \"collision\" geometry.\n",
    "    visual = MeshcatVisualizerCpp.AddToBuilder(builder, scene_graph, meshcat,\n",
    "        MeshcatVisualizerParams(role=Role.kPerception, prefix=\"visual\"))\n",
    "    collision = MeshcatVisualizerCpp.AddToBuilder(\n",
    "        builder, scene_graph, meshcat,\n",
    "        MeshcatVisualizerParams(role=Role.kProximity, prefix=\"collision\"))\n",
    "    # Disable the collision geometry at the start; it can be enabled by the\n",
    "    # checkbox in the meshcat controls.\n",
    "    meshcat.SetProperty(\"collision\", \"visible\", False)\n",
    "\n",
    "    sliders = builder.AddSystem(JointSliders(meshcat, plant))\n",
    "\n",
    "    diagram = builder.Build()\n",
    "    sliders.Run(diagram)"
   ]
  },
  {
   "cell_type": "code",
   "execution_count": 6,
   "metadata": {},
   "outputs": [
    {
     "name": "stderr",
     "output_type": "stream",
     "text": [
      "INFO:drake:Press the 'Stop JointSliders' button in Meshcat to continue.\n"
     ]
    }
   ],
   "source": [
    "\n",
    "inspector(\"triple_cartpole.urdf\")"
   ]
  },
  {
   "cell_type": "code",
   "execution_count": null,
   "metadata": {
    "cell_id": "00006-510e9310-ad78-4275-b500-e509bcc6f317",
    "deepnote_cell_height": 135,
    "deepnote_cell_type": "code",
    "deepnote_to_be_reexecuted": true,
    "execution_millis": 18057,
    "execution_start": 1639922874816,
    "output_cleared": true,
    "source_hash": "2a026560"
   },
   "outputs": [],
   "source": [
    "filename = FindResourceOrThrow(\n",
    "                \"drake/manipulation/models/\"\n",
    "                \"wsg_50_description/sdf/schunk_wsg_50_with_tip.sdf\")\n",
    "inspector(filename)"
   ]
  },
  {
   "cell_type": "markdown",
   "metadata": {
    "cell_id": "00007-2f1acac4-e1cc-4588-aab7-1607e53e04f6",
    "deepnote_cell_height": 417.171875,
    "deepnote_cell_type": "markdown"
   },
   "source": [
    "## Creating (or porting) a new robot / object\n",
    "\n",
    "The \"inspector\" method above will be very useful as we start to produce our own robot description files, or port description files over from another simulator.\n",
    "- Link to URDF / SDF docs; possibly provide a little guidance here about which to prefer.\n",
    "- Link to Drake custom tags.  (probably requires https://github.com/RobotLocomotion/drake/issues/16178)\n",
    "- Best support (currently) is for OBJ files.  If you have some other format (stl, dae, ...), then consider using the open-source `MeshLab` to convert it.\n",
    "- We often prefer simplified collision geometry (maybe link to my lecture notes on this)...\n",
    "- When using OBJ files for collisions, Drake will take the convex hull (consider adding the convex tag to improve performance).  If you need a non-convex collision model, use a convex decomposition tool.  Many of the tools out there are just thin wrappers on VHACD.  Here is a wrapper that we often use for Drake: https://github.com/gizatt/convex_decomp_to_sdf \n",
    "\n",
    "TODO(russt): I can potentially provision this deepnote project with meshlab/vhacd/etc, or at very least provide the commands here in this notebook to do it."
   ]
  },
  {
   "cell_type": "code",
   "execution_count": null,
   "metadata": {
    "cell_id": "00008-08a196c3-379a-474f-8a8d-5fd110286ab2",
    "deepnote_cell_height": 81,
    "deepnote_cell_type": "code",
    "deepnote_to_be_reexecuted": true,
    "output_cleared": true,
    "source_hash": "b623e53d"
   },
   "outputs": [],
   "source": []
  },
  {
   "cell_type": "markdown",
   "metadata": {
    "cell_id": "00009-da0f9995-6323-4d14-8e25-12fe13b981f8",
    "deepnote_cell_height": 210.1875,
    "deepnote_cell_type": "markdown"
   },
   "source": [
    "## Creating (or porting) a new \"scene\" containing multiple robots/objects\n",
    "\n",
    "- I believe we should only recommend using SDF with the `<include>` tag here.  Should we still point to the model directives?  or do we consider that already on the path to extinction?\n",
    "- Welding objects..."
   ]
  },
  {
   "cell_type": "code",
   "execution_count": null,
   "metadata": {
    "cell_id": "00010-e2d66533-a9a2-4b34-ad74-3cd638d85d70",
    "deepnote_cell_height": 1161,
    "deepnote_cell_type": "code",
    "deepnote_to_be_reexecuted": true,
    "execution_millis": 1,
    "execution_start": 1641339891891,
    "output_cleared": true,
    "source_hash": "7f43310c"
   },
   "outputs": [],
   "source": [
    "# One option to construct the scene is to load the objects programmatically.\n",
    "def add_objects_programmatically(pladfnt):\n",
    "    # Load a mug into the plant/scene_graph.\n",
    "    parser = Parser(plant)\n",
    "    parser.AddModelFromFile(\"/work/simple_mug/simple_mug.sdf\")\n",
    "\n",
    "    # Load a cracker box into the plant/scene_graph.\n",
    "    cracker_box = FindResourceOrThrow(\n",
    "                \"drake/manipulation/models/\"\n",
    "                \"ycb/sdf/003_cracker_box.sdf\")\n",
    "    parser.AddModelFromFile(cracker_box)\n",
    "\n",
    "    # Load a desk into the plant/scene_graph.\n",
    "    desk_model_instance = parser.AddModelFromFile(\"/work/long_table/long_table.sdf\")\n",
    "    desk = plant.GetBodyByName(\"long_table_body\", desk_model_instance)\n",
    "    # Weld the desk to the world.\n",
    "    plant.WeldFrames(plant.world_frame(), desk.body_frame())\n",
    "\n",
    "# An alternative to construct the scene is to build the scene in an SDF file.\n",
    "# Notice that the desk has been welded inside the sdf file.\n",
    "def add_objects_single_sdf(plant):\n",
    "    parser = Parser(plant)\n",
    "    parser.AddModelFromFile(\"/work/cluttered_desk.sdf\")\n",
    "\n",
    "def create_scene(dt, single_sdf):\n",
    "    # Clean the plate for MeshCat.\n",
    "    meshcat.Delete()\n",
    "    meshcat.DeleteAddedControls()\n",
    "\n",
    "    builder = DiagramBuilder()\n",
    "    plant, scene_graph = AddMultibodyPlantSceneGraph(builder, time_step=dt)\n",
    "\n",
    "    # Populate the plant with the scene.\n",
    "    if single_sdf:\n",
    "        add_objects_single_sdf(plant)\n",
    "    else:\n",
    "        add_objects_programmatically(plant)\n",
    "\n",
    "    # Finalize the plant after loading the scene.\n",
    "    plant.Finalize()\n",
    "\n",
    "    # Set the initial pose of the mug.\n",
    "    mug = plant.GetBodyByName(\"mug_body\")\n",
    "    desk_frame = plant.GetFrameByName(\"table_top_center\")\n",
    "    plant_context = plant.CreateDefaultContext()\n",
    "    X_WD = desk_frame.CalcPoseInWorld(plant_context)\n",
    "    X_DM = RigidTransform(RollPitchYaw(np.asarray([45, -30, 0]) * np.pi / 180), p=[0,0,0.5])\n",
    "    X_WM = X_WD.multiply(X_DM)\n",
    "    plant.SetDefaultFreeBodyPose(mug, X_WM)\n",
    "    # Set the initial pose of the cracker box.\n",
    "    cracker_box = plant.GetBodyByName(\"base_link_cracker\")\n",
    "    X_DC = RigidTransform(p=[0,0,1.0])\n",
    "    X_WC = X_WD.multiply(X_DC);\n",
    "    plant.SetDefaultFreeBodyPose(cracker_box, X_WC)\n",
    "\n",
    "    # Add visualizer to visualize the geometries.\n",
    "    visualizer = MeshcatVisualizerCpp.AddToBuilder(builder, scene_graph, meshcat,\n",
    "        MeshcatVisualizerParams(role=Role.kPerception, prefix=\"visual\"))\n",
    "\n",
    "    diagram = builder.Build()\n",
    "    return diagram, visualizer"
   ]
  },
  {
   "cell_type": "markdown",
   "metadata": {
    "cell_id": "00011-1973e3c1-31a0-40b4-8c97-593b69774a56",
    "deepnote_cell_height": 144.796875,
    "deepnote_cell_type": "markdown"
   },
   "source": [
    "## Running a simple simulation\n",
    "\n",
    "Passive system (objects fall with gravity).  Did they do what you expect?\n",
    "\n",
    "Adjusting the timestep.  Start small and increase it... "
   ]
  },
  {
   "cell_type": "code",
   "execution_count": null,
   "metadata": {
    "cell_id": "00013-c508b95d-deab-4db7-8bc6-4ea22337974c",
    "deepnote_cell_height": 333,
    "deepnote_cell_type": "code",
    "deepnote_to_be_reexecuted": true,
    "execution_millis": 6052,
    "execution_start": 1641339997534,
    "output_cleared": true,
    "source_hash": "19b49bcf",
    "tags": []
   },
   "outputs": [],
   "source": [
    "def initialize_simulation(diagram):\n",
    "    simulator = Simulator(diagram)\n",
    "    simulator.Initialize()\n",
    "    simulator.set_target_realtime_rate(1.)\n",
    "    return simulator\n",
    "\n",
    "def run_simulation(dt):\n",
    "    diagram, visualizer = create_scene(dt, single_sdf=True)\n",
    "    simulator = initialize_simulation(diagram)\n",
    "    visualizer.StartRecording()\n",
    "    simulator.AdvanceTo(5.0)\n",
    "    visualizer.PublishRecording()\n",
    "\n",
    "# Run the simulation with a small timestep. Try gradually increasing it!\n",
    "run_simulation(dt=0.0001)"
   ]
  },
  {
   "cell_type": "markdown",
   "metadata": {
    "cell_id": "00012-b5def496-b9ef-4041-b20b-0e2f6d8903fd",
    "deepnote_cell_height": 248.390625,
    "deepnote_cell_type": "markdown"
   },
   "source": [
    "## Debugging your MultibodyPlant/SceneGraph\n",
    "\n",
    "Sometimes when you go to simulate, you get surprising results. \n",
    "\n",
    "If you're timestep is < 0.001, you probably have something poorly specified in your system creating stiffness.  This can happen, for instance, if you have bodies which don't have any inertial properties specified, but which are important to the dynamics.  (You don't need to specify the mass of a table if it's welded to the world, but if you have a movable coffee mug with zero mass, then the simulation is not yet fully specified.)\n",
    "\n",
    "Hint: Does the mass/inertia of the mug seem reasonable?"
   ]
  },
  {
   "cell_type": "markdown",
   "metadata": {
    "cell_id": "00013-194325fc-967e-4220-80d1-e839d5f8d584",
    "deepnote_cell_height": 290.78125,
    "deepnote_cell_type": "markdown"
   },
   "source": [
    "## Next steps...\n",
    "\n",
    "This tutorial helps you set up the physics and geometry engines (MultibodyPlant and SceneGraph), but most robotics simulations require more.  Next you might need to model the sensors, the low-level control system, and eventually even the high-level perception, planning, and control systems...\n",
    "\n",
    "Could point to\n",
    "- Examples (w/ teleop, etc) in manipulation notes\n",
    "- Monte Carlo tools\n",
    "- DrakeGymEnv"
   ]
  },
  {
   "cell_type": "markdown",
   "metadata": {
    "cell_id": "00014-d6a773f2-7a1a-4bb9-bc39-7752f3f1fb9e",
    "deepnote_cell_height": 46,
    "deepnote_cell_type": "markdown"
   },
   "source": []
  },
  {
   "cell_type": "markdown",
   "metadata": {
    "created_in_deepnote_cell": true,
    "deepnote_cell_type": "markdown",
    "tags": []
   },
   "source": [
    "<a style='text-decoration:none;line-height:16px;display:flex;color:#5B5B62;padding:10px;justify-content:end;' href='https://deepnote.com?utm_source=created-in-deepnote-cell&projectId=8e7a0ac9-52e4-4b90-9852-01c6dc04ac04' target=\"_blank\">\n",
    "<img alt='Created in deepnote.com' style='display:inline;max-height:16px;margin:0px;margin-right:7.5px;' src='data:image/svg+xml;base64,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' > </img>\n",
    "Created in <span style='font-weight:600;margin-left:4px;'>Deepnote</span></a>"
   ]
  }
 ],
 "metadata": {
  "deepnote": {},
  "deepnote_execution_queue": [],
  "deepnote_notebook_id": "e0571dcb-e689-4b98-922a-8ee95c07e46d",
  "interpreter": {
   "hash": "e7370f93d1d0cde622a1f8e1c04877d8463912d04d973331ad4851f04de6915a"
  },
  "kernelspec": {
   "display_name": "Python 3.8.10 64-bit",
   "language": "python",
   "name": "python3"
  },
  "language_info": {
   "codemirror_mode": {
    "name": "ipython",
    "version": 3
   },
   "file_extension": ".py",
   "mimetype": "text/x-python",
   "name": "python",
   "nbconvert_exporter": "python",
   "pygments_lexer": "ipython3",
   "version": "3.9.12"
  },
  "orig_nbformat": 4
 },
 "nbformat": 4,
 "nbformat_minor": 2
}

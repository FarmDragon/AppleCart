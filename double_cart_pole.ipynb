{
 "cells": [
  {
   "cell_type": "markdown",
   "metadata": {},
   "source": [
    "# Double cart-pole"
   ]
  },
  {
   "cell_type": "code",
   "execution_count": 10,
   "metadata": {},
   "outputs": [],
   "source": [
    "from pydrake.all import (\n",
    "    AddMultibodyPlantSceneGraph,\n",
    "    DiagramBuilder,\n",
    "    LinearQuadraticRegulator,\n",
    "    Parser,\n",
    "    PlanarSceneGraphVisualizer,\n",
    "    Simulator,\n",
    "    Linearize,\n",
    "    StartMeshcat,\n",
    "    SceneGraph,\n",
    "    MeshcatVisualizerCpp,\n",
    "    RigidTransform,\n",
    "    RotationMatrix,\n",
    ")\n",
    "import os\n",
    "import numpy as np\n",
    "from underactuated.meshcat_cpp_utils import MeshcatSliders\n"
   ]
  },
  {
   "cell_type": "code",
   "execution_count": 11,
   "metadata": {},
   "outputs": [
    {
     "name": "stdout",
     "output_type": "stream",
     "text": [
      "Meshcat is now available at http://localhost:7003\n"
     ]
    }
   ],
   "source": [
    "# Start the visualizer (run this cell only once, each instance consumes a port)\n",
    "meshcat = StartMeshcat()"
   ]
  },
  {
   "cell_type": "code",
   "execution_count": 13,
   "metadata": {},
   "outputs": [],
   "source": [
    "def simulate_double_cartpole():\n",
    "\n",
    "    # start construction site of our block diagram\n",
    "    builder = DiagramBuilder()\n",
    "\n",
    "    # instantiate the cart-pole and the scene graph\n",
    "    plant, scene_graph = AddMultibodyPlantSceneGraph(builder, time_step=0.0)\n",
    "    Parser(plant).AddModelFromFile(\"double_cartpole.urdf\")\n",
    "    plant.Finalize()\n",
    "\n",
    "    # set initial unstable equilibrium point\n",
    "    context = plant.CreateDefaultContext()\n",
    "    x_star = [0, 1.5*np.pi, np.pi, 0, 0, 0]\n",
    "    context.get_mutable_continuous_state_vector().SetFromVector(x_star)\n",
    "\n",
    "    # Setup slider input\n",
    "    meshcat.AddSlider('u', min=-30., max=30, step=.1, value=0.0)\n",
    "    force_system = builder.AddSystem(MeshcatSliders(meshcat,['u']))\n",
    "    builder.Connect(force_system.get_output_port(),\n",
    "                    plant.get_actuation_input_port())\n",
    "\n",
    "\n",
    "    # Setup visualization\n",
    "    MeshcatVisualizerCpp.AddToBuilder(builder, scene_graph, meshcat)\n",
    "    meshcat.Delete()\n",
    "    meshcat.Set2dRenderMode(\n",
    "        X_WC=RigidTransform(RotationMatrix.MakeZRotation(np.pi), [0, 1, 0])\n",
    "    )\n",
    "\n",
    "    # finish building the block diagram\n",
    "    diagram = builder.Build()\n",
    "\n",
    "    # instantiate a simulator\n",
    "    simulator = Simulator(diagram)\n",
    "    simulator.set_publish_every_time_step(False)  # makes sim faster\n",
    "    \n",
    "    context = simulator.get_mutable_context()\n",
    "    context.SetTime(0)\n",
    "    # context.setContinuousState(np.array([-2, 0.96*np.pi, 0.93*np.pi, 0, 0, 0]))\n",
    "\n",
    "    # run simulation\n",
    "    simulator.Initialize()\n",
    "    simulator.set_target_realtime_rate(1.0)\n",
    "    meshcat.AddButton('Stop Simulation')\n",
    "    while meshcat.GetButtonClicks('Stop Simulation') < 1:\n",
    "        simulator.AdvanceTo(simulator.get_context().get_time() + 1.0)\n",
    "    meshcat.DeleteAddedControls()\n",
    "\n",
    "simulate_double_cartpole()\n"
   ]
  },
  {
   "cell_type": "code",
   "execution_count": null,
   "metadata": {},
   "outputs": [],
   "source": []
  }
 ],
 "metadata": {
  "interpreter": {
   "hash": "6b9c9bbf603938a11e3777fbefad3afd5fac399375809742c3637c3c344cf3a9"
  },
  "kernelspec": {
   "display_name": "Python 3.10.0 64-bit ('3.10.0')",
   "language": "python",
   "name": "python3"
  },
  "language_info": {
   "codemirror_mode": {
    "name": "ipython",
    "version": 3
   },
   "file_extension": ".py",
   "mimetype": "text/x-python",
   "name": "python",
   "nbconvert_exporter": "python",
   "pygments_lexer": "ipython3",
   "version": "3.9.10"
  },
  "orig_nbformat": 4
 },
 "nbformat": 4,
 "nbformat_minor": 2
}

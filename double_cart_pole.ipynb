{
 "cells": [
  {
   "cell_type": "markdown",
   "metadata": {},
   "source": [
    "# Double cart-pole"
   ]
  },
  {
   "cell_type": "code",
   "execution_count": 24,
   "metadata": {},
   "outputs": [],
   "source": [
    "from pydrake.all import (\n",
    "    AddMultibodyPlantSceneGraph,\n",
    "    DiagramBuilder,\n",
    "    LinearQuadraticRegulator,\n",
    "    Parser,\n",
    "    PlanarSceneGraphVisualizer,\n",
    "    Simulator,\n",
    "    Linearize,\n",
    "    StartMeshcat,\n",
    "    SceneGraph,\n",
    "    MeshcatVisualizerCpp,\n",
    "    RigidTransform,\n",
    "    RotationMatrix,\n",
    ")\n",
    "import os\n",
    "import numpy as np\n",
    "from underactuated.meshcat_cpp_utils import MeshcatSliders\n"
   ]
  },
  {
   "cell_type": "code",
   "execution_count": 25,
   "metadata": {},
   "outputs": [
    {
     "name": "stdout",
     "output_type": "stream",
     "text": [
      "Meshcat is now available at http://localhost:7007\n"
     ]
    }
   ],
   "source": [
    "# Start the visualizer (run this cell only once, each instance consumes a port)\n",
    "meshcat = StartMeshcat()"
   ]
  },
  {
   "cell_type": "code",
   "execution_count": 29,
   "metadata": {},
   "outputs": [],
   "source": [
    "def simulate_double_cartpole():\n",
    "\n",
    "    # start construction site of our block diagram\n",
    "    builder = DiagramBuilder()\n",
    "\n",
    "    # instantiate the cart-pole and the scene graph\n",
    "    plant, scene_graph = AddMultibodyPlantSceneGraph(builder, time_step=0.0)\n",
    "    Parser(plant).AddModelFromFile(\"double_cartpole.urdf\")\n",
    "    plant.Finalize()\n",
    "\n",
    "    # set initial unstable equilibrium point\n",
    "    context = plant.CreateDefaultContext()\n",
    "    x_star = [0, np.pi, np.pi, 0, 0, 0]\n",
    "    context.get_mutable_continuous_state_vector().SetFromVector(x_star)\n",
    "\n",
    "    # weight matrices for the lqr controller\n",
    "    Q = np.diag((10., 10., 10., 1., 1., 1.))\n",
    "    R = np.eye(1)\n",
    "\n",
    "    # Setup input\n",
    "    plant.get_actuation_input_port().FixValue(context, [0])\n",
    "    input_i = plant.get_actuation_input_port().get_index()\n",
    "    lqr = LinearQuadraticRegulator(plant, context, Q, R, input_port_index=int(input_i))\n",
    "    lqr = builder.AddSystem(lqr)\n",
    "    output_i = plant.get_state_output_port().get_index()\n",
    "    cartpole_lin = Linearize(plant,\n",
    "                            context,\n",
    "                            input_port_index=input_i,\n",
    "                            output_port_index=output_i)\n",
    "    builder.Connect(plant.get_state_output_port(), lqr.get_input_port(0))\n",
    "    builder.Connect(lqr.get_output_port(0), plant.get_actuation_input_port())\n",
    "\n",
    "    # Setup visualization\n",
    "    MeshcatVisualizerCpp.AddToBuilder(builder, scene_graph, meshcat)\n",
    "    meshcat.Delete()\n",
    "    meshcat.Set2dRenderMode(\n",
    "        X_WC=RigidTransform(RotationMatrix.MakeZRotation(np.pi), [0, 1, 0])\n",
    "    )\n",
    "\n",
    "    # finish building the block diagram\n",
    "    diagram = builder.Build()\n",
    "\n",
    "    # instantiate a simulator\n",
    "    simulator = Simulator(diagram)\n",
    "    simulator.set_publish_every_time_step(False)  # makes sim faster\n",
    "\n",
    "    context = simulator.get_mutable_context()\n",
    "    context.SetTime(0)\n",
    "    context.SetContinuousState(np.array([-2, 0.96*np.pi, 0.93*np.pi, 0, 0, 0]))\n",
    "\n",
    "    # run simulation\n",
    "    simulator.Initialize()\n",
    "    simulator.set_target_realtime_rate(1.0)\n",
    "    meshcat.AddButton(\"Stop Simulation\")\n",
    "    while meshcat.GetButtonClicks(\"Stop Simulation\") < 1:\n",
    "        simulator.AdvanceTo(simulator.get_context().get_time() + 1.0)\n",
    "    meshcat.DeleteAddedControls()\n",
    "\n",
    "\n",
    "simulate_double_cartpole()\n"
   ]
  },
  {
   "cell_type": "code",
   "execution_count": null,
   "metadata": {},
   "outputs": [],
   "source": []
  }
 ],
 "metadata": {
  "interpreter": {
   "hash": "6b9c9bbf603938a11e3777fbefad3afd5fac399375809742c3637c3c344cf3a9"
  },
  "kernelspec": {
   "display_name": "Python 3.10.0 64-bit ('3.10.0')",
   "language": "python",
   "name": "python3"
  },
  "language_info": {
   "codemirror_mode": {
    "name": "ipython",
    "version": 3
   },
   "file_extension": ".py",
   "mimetype": "text/x-python",
   "name": "python",
   "nbconvert_exporter": "python",
   "pygments_lexer": "ipython3",
   "version": "3.9.10"
  },
  "orig_nbformat": 4
 },
 "nbformat": 4,
 "nbformat_minor": 2
}
